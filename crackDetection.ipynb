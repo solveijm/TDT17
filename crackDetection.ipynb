{
 "cells": [
  {
   "cell_type": "markdown",
   "metadata": {},
   "source": [
    "# Statistical information on the data"
   ]
  },
  {
   "cell_type": "code",
   "execution_count": 2,
   "metadata": {},
   "outputs": [],
   "source": [
    "from xml.etree import ElementTree\n",
    "from xml.dom import minidom\n",
    "import collections\n",
    "\n",
    "import os\n",
    "\n",
    "import matplotlib.pyplot as plt\n",
    "import matplotlib as matplot\n",
    "import seaborn as sns\n",
    "%matplotlib inline"
   ]
  },
  {
   "cell_type": "code",
   "execution_count": 2,
   "metadata": {},
   "outputs": [],
   "source": [
    "class Country_stats:\n",
    "    def __init__(self, country_name, images_per_class, total_images, total_images_with_detection):\n",
    "        self.country_name = country_name\n",
    "        self.images_per_class = images_per_class\n",
    "        self.total_images = total_images\n",
    "        self.total_images_with_detection = total_images_with_detection\n",
    "        self.number_of_labels = sum(images_per_class.values())\n",
    "        \n"
   ]
  },
  {
   "cell_type": "code",
   "execution_count": 3,
   "metadata": {},
   "outputs": [],
   "source": [
    "def get_stats(base_path, country_name, imageSetsPath):\n",
    "    # the number of total images and total labels.\n",
    "    images_per_class= {}\n",
    "    total_images = 0\n",
    "    total_images_with_detection = 0\n",
    "        \n",
    "    file_list = [filename for filename in os.listdir(base_path) if not filename.startswith('.')]\n",
    "\n",
    "    for file in file_list:\n",
    "\n",
    "        total_images = total_images + 1\n",
    "        if file =='.DS_Store':\n",
    "            pass\n",
    "        else:\n",
    "            infile_xml = open(base_path + file)\n",
    "            tree = ElementTree.parse(infile_xml)\n",
    "            root = tree.getroot()\n",
    "            image_path = root.find('filename').text.strip('.jpg')\n",
    "\n",
    "            crack_in_image = False\n",
    "            for obj in root.iter('object'):\n",
    "                crack_in_image = True\n",
    "                cls_name = obj.find('name').text\n",
    "                path = imageSetsPath + f'/{cls_name}_images.txt'\n",
    "                with open(path, 'a+') as f:\n",
    "                    f.write(f'{image_path}\\n')\n",
    "                if cls_name in images_per_class.keys():\n",
    "                    images_per_class[cls_name] += 1\n",
    "                else:\n",
    "                    images_per_class[cls_name] = 1\n",
    "            if crack_in_image:\n",
    "                total_images_with_detection += 1\n",
    "    return Country_stats(country_name, images_per_class, total_images, total_images_with_detection)\n"
   ]
  },
  {
   "cell_type": "code",
   "execution_count": 4,
   "metadata": {},
   "outputs": [
    {
     "name": "stdout",
     "output_type": "stream",
     "text": [
      "The new directory is created!\n"
     ]
    }
   ],
   "source": [
    "base_path = os.getcwd()\n",
    "\n",
    "# We ignore \"Repair\" and \"Block crack\"\n",
    "\n",
    "imageSetsPath = os.getcwd() + '/ImageSets/'\n",
    "isExist = os.path.exists(imageSetsPath)\n",
    "if not isExist:\n",
    "   # Create a new directory because it does not exist\n",
    "   os.makedirs(imageSetsPath)\n",
    "   print(\"The new directory is created!\")\n",
    "\n",
    "for file_name in os.listdir(imageSetsPath):\n",
    "   path = imageSetsPath+file_name\n",
    "   with open(path, 'w+') as f:\n",
    "      f.write(\"\")\n"
   ]
  },
  {
   "cell_type": "code",
   "execution_count": 5,
   "metadata": {},
   "outputs": [],
   "source": [
    "dataset_root = '/cluster/projects/vc/courses/TDT17/2022/open/RDD2022'\n",
    "#dataset_root = base_path\n",
    "\n",
    "countries = [\"China_Drone\", \"China_MotorBike\", \"Czech\", \"India\", \"Japan\", \"Norway\", \"United_States\"]\n",
    "classes = {\"D00\": \"Longitude cracks\", \"D10\": \"Lateral\", \"D20\": \"Alligator\", \"D40\": \"Pothole\"}\n",
    "country_stats = []\n",
    "\n",
    "for country in countries:\n",
    "    src_dir_annot = dataset_root +'/'+ country +'/train' + '/annotations/' + \"xmls/\"\n",
    "    src_dir_img = dataset_root +'/'+ country +'/train' + '/images/'\n",
    "    country_stats.append(get_stats(src_dir_annot, country, imageSetsPath))"
   ]
  },
  {
   "cell_type": "code",
   "execution_count": 6,
   "metadata": {},
   "outputs": [],
   "source": [
    "def display_stats(country_stat: Country_stats):\n",
    "    print(\"Country: \", country_stat.country_name)\n",
    "    print(\"# of images：\" + str(country_stat.total_images))\n",
    "    print(\"# of labels：\" + str(country_stat.number_of_labels))\n",
    "    print('# of images with object: ' + str(country_stat.total_images_with_detection))\n",
    "\n",
    "    for cls in country_stat.images_per_class.keys():\n",
    "        print(str(cls) + ' : ' + str(country_stat.images_per_class[cls]))\n",
    "    sns.set_palette(\"winter\", len(country_stat.images_per_class))\n",
    "    sns.barplot(x=list(country_stat.images_per_class.keys()), y= list(country_stat.images_per_class.values())).set(title=country_stat.country_name)\n"
   ]
  },
  {
   "cell_type": "code",
   "execution_count": 9,
   "metadata": {},
   "outputs": [
    {
     "name": "stdout",
     "output_type": "stream",
     "text": [
      "Country:  China_Drone\n",
      "# of images：2401\n",
      "# of labels：3840\n",
      "# of images with object: 2396\n",
      "D10 : 1263\n",
      "Repair : 769\n",
      "D00 : 1426\n",
      "D20 : 293\n",
      "D40 : 86\n",
      "Block crack : 3\n",
      "Country:  China_MotorBike\n",
      "# of images：1977\n",
      "# of labels：4927\n",
      "# of images with object: 1977\n",
      "D00 : 2678\n",
      "D10 : 1096\n",
      "D20 : 641\n",
      "Repair : 277\n",
      "D40 : 235\n",
      "Country:  Czech\n",
      "# of images：2829\n",
      "# of labels：1745\n",
      "# of images with object: 1072\n",
      "D00 : 988\n",
      "D10 : 399\n",
      "D40 : 197\n",
      "D20 : 161\n",
      "Country:  India\n",
      "# of images：7706\n",
      "# of labels：8203\n",
      "# of images with object: 3785\n",
      "D20 : 2021\n",
      "D43 : 57\n",
      "D40 : 3187\n",
      "D44 : 1062\n",
      "D01 : 179\n",
      "D00 : 1555\n",
      "D10 : 68\n",
      "D11 : 45\n",
      "D50 : 28\n",
      "D0w0 : 1\n",
      "Country:  Japan\n",
      "# of images：10506\n",
      "# of labels：24754\n",
      "# of images with object: 9712\n",
      "D50 : 3553\n",
      "D44 : 3995\n",
      "D20 : 6199\n",
      "D00 : 4049\n",
      "D40 : 2243\n",
      "D10 : 3979\n",
      "D43 : 736\n",
      "Country:  Norway\n",
      "# of images：8161\n",
      "# of labels：11229\n",
      "# of images with object: 2914\n",
      "D00 : 8570\n",
      "D40 : 461\n",
      "D10 : 1730\n",
      "D20 : 468\n",
      "Country:  United_States\n",
      "# of images：4805\n",
      "# of labels：11014\n",
      "# of images with object: 4805\n",
      "D00 : 6750\n",
      "D10 : 3295\n",
      "D20 : 834\n",
      "D40 : 135\n"
     ]
    },
    {
     "data": {
      "image/png": "[encoded data removed]",
      "text/plain": [
       "<Figure size 432x288 with 1 Axes>"
      ]
     },
     "metadata": {
      "needs_background": "light"
     },
     "output_type": "display_data"
    }
   ],
   "source": [
    "images_per_class = {'D10': 0, 'D40': 0, 'D00': 0, 'D20': 0}\n",
    "total_images=number_of_labels=total_images_with_detection = 0\n",
    "for x in country_stats:\n",
    "    display_stats(x)\n",
    "    total_images += x.total_images\n",
    "    number_of_labels += x.number_of_labels\n",
    "    total_images_with_detection += x.total_images_with_detection\n",
    "    for cls in images_per_class:\n",
    "        images_per_class[cls] += x.images_per_class[cls]\n"
   ]
  },
  {
   "cell_type": "code",
   "execution_count": 10,
   "metadata": {},
   "outputs": [
    {
     "name": "stdout",
     "output_type": "stream",
     "text": [
      "All countries:\n",
      "# of images：38385\n",
      "# of labels：65712\n",
      "# of images with object: 26661\n",
      "D10 : 11830\n",
      "D40 : 6544\n",
      "D00 : 26016\n",
      "D20 : 10617\n"
     ]
    },
    {
     "data": {
      "text/plain": [
       "[Text(0.5, 1.0, 'All countries')]"
      ]
     },
     "execution_count": 10,
     "metadata": {},
     "output_type": "execute_result"
    },
    {
     "data": {
      "image/png": "[encoded data removed]",
      "text/plain": [
       "<Figure size 432x288 with 1 Axes>"
      ]
     },
     "metadata": {
      "needs_background": "light"
     },
     "output_type": "display_data"
    }
   ],
   "source": [
    "print(\"All countries:\")\n",
    "print(\"# of images：\" + str(total_images))\n",
    "print(\"# of labels：\" + str(number_of_labels))\n",
    "print('# of images with object: ' + str(total_images_with_detection))\n",
    "\n",
    "for cls in images_per_class.keys():\n",
    "    print(str(cls) + ' : ' + str(images_per_class[cls]))\n",
    "sns.set_palette(\"winter\", len(images_per_class))\n",
    "sns.barplot(x=list(images_per_class.keys()), y= list(images_per_class.values())).set(title=\"All countries\")"
   ]
  },
  {
   "cell_type": "markdown",
   "metadata": {},
   "source": [
    "# Visualize some images"
   ]
  },
  {
   "cell_type": "code",
   "execution_count": 11,
   "metadata": {},
   "outputs": [],
   "source": [
    "import cv2\n",
    "import random"
   ]
  },
  {
   "cell_type": "code",
   "execution_count": 12,
   "metadata": {},
   "outputs": [],
   "source": [
    "def draw_images(image_file, folder_path):\n",
    "    gov = image_file.split('_')[0]\n",
    "    img = cv2.imread(folder_path + '/train'+'/images/' + image_file.split('.')[0] + '.jpg')\n",
    "    \n",
    "    infile_xml = open(folder_path + '/train' + '/annotations/xmls/' +image_file)\n",
    "    tree = ElementTree.parse(infile_xml)\n",
    "    root = tree.getroot()\n",
    "    \n",
    "    for obj in root.iter('object'):\n",
    "        cls_name = obj.find('name').text\n",
    "        xmlbox = obj.find('bndbox')\n",
    "        xmin = int(xmlbox.find('xmin').text)\n",
    "        xmax = int(xmlbox.find('xmax').text)\n",
    "        ymin = int(xmlbox.find('ymin').text)\n",
    "        ymax = int(xmlbox.find('ymax').text)\n",
    "\n",
    "        font = cv2.FONT_HERSHEY_SIMPLEX\n",
    "\n",
    "        # put text\n",
    "        cv2.putText(img,cls_name,(xmin,ymin-10),font,1,(0,255,0),2,cv2.LINE_AA)\n",
    "\n",
    "        # draw bounding box\n",
    "        cv2.rectangle(img, (xmin, ymin), (xmax, ymax), (0,255,0),3)\n",
    "    return img"
   ]
  },
  {
   "cell_type": "code",
   "execution_count": 17,
   "metadata": {},
   "outputs": [
    {
     "ename": "FileNotFoundError",
     "evalue": "[Errno 2] No such file or directory: '/cluster/projects/vc/courses/TDT17/2022/open/RDD2022/China_Drone/train/annotations/xmls/United_States_001067.xml'",
     "output_type": "error",
     "traceback": [
      "\u001b[0;31m---------------------------------------------------------------------------\u001b[0m",
      "\u001b[0;31mFileNotFoundError\u001b[0m                         Traceback (most recent call last)",
      "\u001b[0;32m<ipython-input-17-820f5a5ab81c>\u001b[0m in \u001b[0;36m<module>\u001b[0;34m\u001b[0m\n\u001b[1;32m     14\u001b[0m \u001b[0;34m\u001b[0m\u001b[0m\n\u001b[1;32m     15\u001b[0m     \u001b[0;32mfor\u001b[0m \u001b[0mnumber\u001b[0m\u001b[0;34m,\u001b[0m \u001b[0mimage\u001b[0m \u001b[0;32min\u001b[0m \u001b[0menumerate\u001b[0m\u001b[0;34m(\u001b[0m\u001b[0mtmp\u001b[0m\u001b[0;34m[\u001b[0m\u001b[0;36m0\u001b[0m\u001b[0;34m:\u001b[0m\u001b[0mnumb_of_images_shown\u001b[0m\u001b[0;34m]\u001b[0m\u001b[0;34m)\u001b[0m\u001b[0;34m:\u001b[0m\u001b[0;34m\u001b[0m\u001b[0;34m\u001b[0m\u001b[0m\n\u001b[0;32m---> 16\u001b[0;31m         \u001b[0mimg\u001b[0m \u001b[0;34m=\u001b[0m \u001b[0mdraw_images\u001b[0m\u001b[0;34m(\u001b[0m\u001b[0mimage\u001b[0m\u001b[0;34m,\u001b[0m \u001b[0mfolder_path\u001b[0m\u001b[0;34m)\u001b[0m\u001b[0;34m\u001b[0m\u001b[0;34m\u001b[0m\u001b[0m\n\u001b[0m\u001b[1;32m     17\u001b[0m         \u001b[0mplt\u001b[0m\u001b[0;34m.\u001b[0m\u001b[0msubplot\u001b[0m\u001b[0;34m(\u001b[0m\u001b[0;36m1\u001b[0m\u001b[0;34m,\u001b[0m\u001b[0mnumb_of_images_shown\u001b[0m\u001b[0;34m,\u001b[0m\u001b[0mnumber\u001b[0m\u001b[0;34m+\u001b[0m\u001b[0;36m1\u001b[0m\u001b[0;34m)\u001b[0m\u001b[0;34m\u001b[0m\u001b[0;34m\u001b[0m\u001b[0m\n\u001b[1;32m     18\u001b[0m         \u001b[0mplt\u001b[0m\u001b[0;34m.\u001b[0m\u001b[0maxis\u001b[0m\u001b[0;34m(\u001b[0m\u001b[0;34m'off'\u001b[0m\u001b[0;34m)\u001b[0m\u001b[0;34m\u001b[0m\u001b[0;34m\u001b[0m\u001b[0m\n",
      "\u001b[0;32m<ipython-input-12-dbc4426e31b9>\u001b[0m in \u001b[0;36mdraw_images\u001b[0;34m(image_file, folder_path)\u001b[0m\n\u001b[1;32m      3\u001b[0m     \u001b[0mimg\u001b[0m \u001b[0;34m=\u001b[0m \u001b[0mcv2\u001b[0m\u001b[0;34m.\u001b[0m\u001b[0mimread\u001b[0m\u001b[0;34m(\u001b[0m\u001b[0mfolder_path\u001b[0m \u001b[0;34m+\u001b[0m \u001b[0;34m'/train'\u001b[0m\u001b[0;34m+\u001b[0m\u001b[0;34m'/images/'\u001b[0m \u001b[0;34m+\u001b[0m \u001b[0mimage_file\u001b[0m\u001b[0;34m.\u001b[0m\u001b[0msplit\u001b[0m\u001b[0;34m(\u001b[0m\u001b[0;34m'.'\u001b[0m\u001b[0;34m)\u001b[0m\u001b[0;34m[\u001b[0m\u001b[0;36m0\u001b[0m\u001b[0;34m]\u001b[0m \u001b[0;34m+\u001b[0m \u001b[0;34m'.jpg'\u001b[0m\u001b[0;34m)\u001b[0m\u001b[0;34m\u001b[0m\u001b[0;34m\u001b[0m\u001b[0m\n\u001b[1;32m      4\u001b[0m \u001b[0;34m\u001b[0m\u001b[0m\n\u001b[0;32m----> 5\u001b[0;31m     \u001b[0minfile_xml\u001b[0m \u001b[0;34m=\u001b[0m \u001b[0mopen\u001b[0m\u001b[0;34m(\u001b[0m\u001b[0mfolder_path\u001b[0m \u001b[0;34m+\u001b[0m \u001b[0;34m'/train'\u001b[0m \u001b[0;34m+\u001b[0m \u001b[0;34m'/annotations/xmls/'\u001b[0m \u001b[0;34m+\u001b[0m\u001b[0mimage_file\u001b[0m\u001b[0;34m)\u001b[0m\u001b[0;34m\u001b[0m\u001b[0;34m\u001b[0m\u001b[0m\n\u001b[0m\u001b[1;32m      6\u001b[0m     \u001b[0mtree\u001b[0m \u001b[0;34m=\u001b[0m \u001b[0mElementTree\u001b[0m\u001b[0;34m.\u001b[0m\u001b[0mparse\u001b[0m\u001b[0;34m(\u001b[0m\u001b[0minfile_xml\u001b[0m\u001b[0;34m)\u001b[0m\u001b[0;34m\u001b[0m\u001b[0;34m\u001b[0m\u001b[0m\n\u001b[1;32m      7\u001b[0m     \u001b[0mroot\u001b[0m \u001b[0;34m=\u001b[0m \u001b[0mtree\u001b[0m\u001b[0;34m.\u001b[0m\u001b[0mgetroot\u001b[0m\u001b[0;34m(\u001b[0m\u001b[0;34m)\u001b[0m\u001b[0;34m\u001b[0m\u001b[0;34m\u001b[0m\u001b[0m\n",
      "\u001b[0;31mFileNotFoundError\u001b[0m: [Errno 2] No such file or directory: '/cluster/projects/vc/courses/TDT17/2022/open/RDD2022/China_Drone/train/annotations/xmls/United_States_001067.xml'"
     ]
    },
    {
     "data": {
      "text/plain": [
       "<Figure size 1080x1080 with 0 Axes>"
      ]
     },
     "metadata": {},
     "output_type": "display_data"
    }
   ],
   "source": [
    "numb_of_images_shown = 3\n",
    "folder_path = dataset_root + '/China_Drone'\n",
    "for damageType in images_per_class.keys():\n",
    "    tmp = []\n",
    "\n",
    "    file = open(os.getcwd()+ '/ImageSets/%s_images.txt' %damageType, 'r')\n",
    "\n",
    "    for line in file:\n",
    "        line = line.strip('\\n')\n",
    "        tmp.append(line + '.xml')\n",
    "        \n",
    "    random.shuffle(tmp)\n",
    "    fig = plt.figure(figsize=(15,15))\n",
    "    \n",
    "    for number, image in enumerate(tmp[0:numb_of_images_shown]):\n",
    "        img = draw_images(image, folder_path)\n",
    "        plt.subplot(1,numb_of_images_shown,number+1)\n",
    "        plt.axis('off')\n",
    "        plt.title('The image including ' + damageType)\n",
    "        plt.imshow(cv2.cvtColor(img, cv2.COLOR_BGR2RGB))"
   ]
  },
  {
   "cell_type": "markdown",
   "metadata": {},
   "source": [
    "# Convert VOC into YOLO"
   ]
  },
  {
   "cell_type": "markdown",
   "metadata": {},
   "source": [
    "### Move all training images and annotations into one folder for all countries"
   ]
  },
  {
   "cell_type": "code",
   "execution_count": 19,
   "metadata": {},
   "outputs": [],
   "source": [
    "if not os.path.exists('./datasets/RDD2022/annotations/'):\n",
    "    os.makedirs(os.getcwd() +'/datasets/RDD2022/annotations')\n",
    "if not os.path.exists('./datasets/RDD2022/images/'):\n",
    "    os.makedirs(os.getcwd() +'/datasets/RDD2022/images')"
   ]
  },
  {
   "cell_type": "code",
   "execution_count": 3,
   "metadata": {},
   "outputs": [],
   "source": [
    "new_dataset_dir = os.getcwd() +'/datasets/RDD2022/'\n",
    "dest_dir_annot = os.getcwd() +'/datasets/RDD2022/annotations'\n",
    "dest_dir_imgs = os.getcwd() +'/datasets/RDD2022/images'"
   ]
  },
  {
   "cell_type": "code",
   "execution_count": 22,
   "metadata": {},
   "outputs": [],
   "source": [
    "import shutil\n",
    "dataset_root = \"/cluster/projects/vc/courses/TDT17/2022/open/RDD2022\"\n",
    "#dataset_root = base_path\n",
    "countries = [\"China_Drone\", \"China_MotorBike\", \"Czech\", \"India\", \"Japan\", \"Norway\", \"United_States\"]\n",
    "classes = {\"D00\": \"Longitude cracks\", \"D10\": \"Lateral\", \"D20\": \"Alligator\", \"D40\": \"Pothole\"}\n",
    "\n",
    "\n",
    "country_stats = []\n",
    "\n",
    "for country in countries:\n",
    "    src_dir_annot = dataset_root +'/'+ country +'/train' + '/annotations/' + \"xmls\"\n",
    "    src_dir_img = dataset_root +'/'+ country +'/train' + '/images'\n",
    "    file_list = [filename.strip('.xml') for filename in os.listdir(src_dir_annot)]\n",
    "    for file in file_list:\n",
    "        annot_path = src_dir_annot + '/' + file +'.xml'\n",
    "        annot_dest = dest_dir_annot + '/' + file +'.xml'\n",
    "        img_path = src_dir_img + '/' + file+ '.jpg'\n",
    "        img_dest = dest_dir_imgs + '/' + file+ '.jpg'\n",
    "        shutil.copyfile(annot_path, annot_dest)\n",
    "        shutil.copyfile(img_path, img_dest)"
   ]
  },
  {
   "cell_type": "markdown",
   "metadata": {},
   "source": [
    "### Convert annotations to yolo format"
   ]
  },
  {
   "cell_type": "code",
   "execution_count": 4,
   "metadata": {},
   "outputs": [],
   "source": [
    "from xml2yolo import xml_to_yolo\n",
    "input_dir = dest_dir_annot\n",
    "label_dir = 'datasets/RDD2022/lables'\n",
    "image_dir = dest_dir_imgs\n",
    "valid_classes = [\"D10\", \"D40\", \"D00\", \"D20\"]\n",
    "xml_to_yolo(input_dir, label_dir, image_dir, valid_classes)"
   ]
  },
  {
   "cell_type": "markdown",
   "metadata": {},
   "source": [
    "# Get all train images\n"
   ]
  },
  {
   "cell_type": "code",
   "execution_count": 5,
   "metadata": {},
   "outputs": [],
   "source": [
    "import glob\n",
    "import random\n",
    "files = glob.glob(os.path.join(image_dir, '*.jpg'))\n",
    "random.shuffle(files)\n",
    "\n",
    "folders = {\"train\": 0.8, \"val\": 0.2}\n",
    "check_sum = sum([folders[x] for x in folders])\n",
    "assert check_sum == 1.0, \"Split proportion is not equal to 1.0\""
   ]
  },
  {
   "cell_type": "code",
   "execution_count": 6,
   "metadata": {},
   "outputs": [
    {
     "name": "stdout",
     "output_type": "stream",
     "text": [
      "# of train:  30708\n",
      "# of val:  7677\n"
     ]
    }
   ],
   "source": [
    "split_point = round(len(files)*folders['train'])\n",
    "\n",
    "path = new_dataset_dir + 'train.txt'\n",
    "with open(path, 'w+') as file:\n",
    "    file.write('\\n'.join(str(line) for line in files[:split_point]))\n",
    "\n",
    "path = new_dataset_dir + 'val.txt'\n",
    "with open(path, 'w+') as file:\n",
    "    file.write('\\n'.join(str(line) for line in files[split_point:]))\n",
    "\n",
    "print('# of train: ', split_point)\n",
    "print('# of val: ', str(len(files)-split_point))\n"
   ]
  },
  {
   "cell_type": "markdown",
   "metadata": {},
   "source": [
    "# Create dataset yaml file"
   ]
  },
  {
   "cell_type": "code",
   "execution_count": null,
   "metadata": {},
   "outputs": [],
   "source": [
    "dataset_root_dir = new_dataset_dir\n",
    "train = new_dataset_dir + 'train.txt'\n",
    "val = new_dataset_dir + 'val.txt'\n",
    "\n",
    "classes = valid_classes # [\"D10\", \"D40\", \"D00\", \"D20\"]\n",
    "\n",
    "\n"
   ]
  },
  {
   "cell_type": "markdown",
   "metadata": {},
   "source": [
    "# Convert VOC to YOLO"
   ]
  },
  {
   "cell_type": "code",
   "execution_count": 1,
   "metadata": {},
   "outputs": [],
   "source": []
  },
  {
   "cell_type": "markdown",
   "metadata": {},
   "source": [
    "# Model"
   ]
  },
  {
   "cell_type": "code",
   "execution_count": null,
   "metadata": {},
   "outputs": [],
   "source": []
  }
 ],
 "metadata": {
  "kernelspec": {
   "display_name": "Python 3",
   "language": "python",
   "name": "python3"
  },
  "language_info": {
   "codemirror_mode": {
    "name": "ipython",
    "version": 3
   },
   "file_extension": ".py",
   "mimetype": "text/x-python",
   "name": "python",
   "nbconvert_exporter": "python",
   "pygments_lexer": "ipython3",
   "version": "3.8.3"
  },
  "vscode": {
   "interpreter": {
    "hash": "aee8b7b246df8f9039afb4144a1f6fd8d2ca17a180786b69acc140d282b71a49"
   }
  }
 },
 "nbformat": 4,
 "nbformat_minor": 2
}
